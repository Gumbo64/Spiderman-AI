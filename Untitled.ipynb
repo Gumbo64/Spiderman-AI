{
 "cells": [
  {
   "cell_type": "code",
   "execution_count": 58,
   "id": "f0d4d0f8",
   "metadata": {},
   "outputs": [
    {
     "name": "stdout",
     "output_type": "stream",
     "text": [
      "[[0 0 0 ... 0 0 0]\n",
      " [0 0 0 ... 0 0 0]\n",
      " [0 0 0 ... 0 0 0]\n",
      " ...\n",
      " [0 0 0 ... 0 0 0]\n",
      " [0 0 0 ... 0 0 0]\n",
      " [0 0 0 ... 0 0 0]]\n"
     ]
    }
   ],
   "source": [
    "import cv2\n",
    "import numpy as np\n",
    "import matplotlib.pyplot as plt\n",
    "from windowcapture import WindowCapture\n",
    "# wincap = WindowCapture('Ruffle - moddedspiderman.swf')\n",
    "cropped_score = cv2.cvtColor(cv2.imread(\"game.png\"), cv2.COLOR_BGR2GRAY)\n",
    "# print(cropped_score)\n",
    "cropped_score = cv2.inRange(cropped_score, (0), (0))\n",
    "print(cropped_score)"
   ]
  },
  {
   "cell_type": "code",
   "execution_count": 61,
   "id": "4d84513a",
   "metadata": {},
   "outputs": [],
   "source": [
    "\n",
    "columntotals=[]\n",
    "for column in cropped_score.T:\n",
    "#     print(column)\n",
    "    columntotals.append(np.sum(column)/255)\n",
    "A = np.array([v for i, v in enumerate(columntotals) if i == 0 or v != columntotals[i-1]])"
   ]
  },
  {
   "cell_type": "code",
   "execution_count": 62,
   "id": "d516051d",
   "metadata": {},
   "outputs": [
    {
     "data": {
      "text/plain": [
       "<matplotlib.image.AxesImage at 0x23307f869d0>"
      ]
     },
     "execution_count": 62,
     "metadata": {},
     "output_type": "execute_result"
    },
    {
     "data": {
      "image/png": "[encoded data removed]",
      "text/plain": [
       "<Figure size 432x288 with 1 Axes>"
      ]
     },
     "metadata": {
      "needs_background": "light"
     },
     "output_type": "display_data"
    }
   ],
   "source": [
    "plt.imshow(cropped_score, cmap=plt.get_cmap('gray'))"
   ]
  },
  {
   "cell_type": "code",
   "execution_count": 63,
   "id": "2f112e98",
   "metadata": {},
   "outputs": [
    {
     "data": {
      "text/plain": [
       "array([0., 2., 0., 5., 0., 2., 0., 6., 0.])"
      ]
     },
     "execution_count": 63,
     "metadata": {},
     "output_type": "execute_result"
    }
   ],
   "source": [
    "A"
   ]
  },
  {
   "cell_type": "code",
   "execution_count": 64,
   "id": "065ea5b1",
   "metadata": {},
   "outputs": [
    {
     "data": {
      "text/plain": [
       "array([1., 4., 1., 5.])"
      ]
     },
     "execution_count": 64,
     "metadata": {},
     "output_type": "execute_result"
    }
   ],
   "source": [
    "res = A[A != 0]\n",
    "res - 1"
   ]
  },
  {
   "cell_type": "code",
   "execution_count": null,
   "id": "cfb40452",
   "metadata": {},
   "outputs": [],
   "source": []
  }
 ],
 "metadata": {
  "kernelspec": {
   "display_name": "Python 3 (ipykernel)",
   "language": "python",
   "name": "python3"
  },
  "language_info": {
   "codemirror_mode": {
    "name": "ipython",
    "version": 3
   },
   "file_extension": ".py",
   "mimetype": "text/x-python",
   "name": "python",
   "nbconvert_exporter": "python",
   "pygments_lexer": "ipython3",
   "version": "3.9.12"
  }
 },
 "nbformat": 4,
 "nbformat_minor": 5
}
