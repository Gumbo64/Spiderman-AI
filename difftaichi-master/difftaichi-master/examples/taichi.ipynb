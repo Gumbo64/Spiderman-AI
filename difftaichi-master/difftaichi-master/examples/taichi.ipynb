{
 "cells": [
  {
   "cell_type": "code",
   "execution_count": 1,
   "id": "a5b7698e",
   "metadata": {},
   "outputs": [
    {
     "name": "stdout",
     "output_type": "stream",
     "text": [
      "Requirement already satisfied: taichi in j:\\devtools\\anaconda\\lib\\site-packages (1.0.3)\n",
      "Requirement already satisfied: colorama in j:\\devtools\\anaconda\\lib\\site-packages (from taichi) (0.4.4)\n",
      "Requirement already satisfied: numpy in j:\\devtools\\anaconda\\lib\\site-packages (from taichi) (1.21.5)\n",
      "Requirement already satisfied: sourceinspect>=0.0.4 in j:\\devtools\\anaconda\\lib\\site-packages (from taichi) (0.0.4)\n",
      "Requirement already satisfied: dill in j:\\devtools\\anaconda\\lib\\site-packages (from sourceinspect>=0.0.4->taichi) (0.3.5.1)\n",
      "Note: you may need to restart the kernel to use updated packages.\n"
     ]
    }
   ],
   "source": [
    "pip install taichi"
   ]
  },
  {
   "cell_type": "code",
   "execution_count": 2,
   "id": "999ffdf6",
   "metadata": {},
   "outputs": [
    {
     "name": "stdout",
     "output_type": "stream",
     "text": [
      "[Taichi] version 1.0.3, llvm 10.0.0, commit fae94a21, win, python 3.9.12\n",
      "[Taichi] Starting on arch=cuda\n"
     ]
    },
    {
     "ename": "RuntimeError",
     "evalue": "Window close button clicked, exiting... (use `while gui.running` to exit gracefully)",
     "output_type": "error",
     "traceback": [
      "\u001b[1;31m---------------------------------------------------------------------------\u001b[0m",
      "\u001b[1;31mRuntimeError\u001b[0m                              Traceback (most recent call last)",
      "Input \u001b[1;32mIn [2]\u001b[0m, in \u001b[0;36m<cell line: 30>\u001b[1;34m()\u001b[0m\n\u001b[0;32m     31\u001b[0m paint(i \u001b[38;5;241m*\u001b[39m \u001b[38;5;241m0.03\u001b[39m)\n\u001b[0;32m     32\u001b[0m gui\u001b[38;5;241m.\u001b[39mset_image(pixels)\n\u001b[1;32m---> 33\u001b[0m \u001b[43mgui\u001b[49m\u001b[38;5;241;43m.\u001b[39;49m\u001b[43mshow\u001b[49m\u001b[43m(\u001b[49m\u001b[43m)\u001b[49m\n",
      "File \u001b[1;32mJ:\\devtools\\Anaconda\\lib\\site-packages\\taichi\\ui\\gui.py:709\u001b[0m, in \u001b[0;36mGUI.show\u001b[1;34m(self, file)\u001b[0m\n\u001b[0;32m    700\u001b[0m \u001b[38;5;28;01mdef\u001b[39;00m \u001b[38;5;21mshow\u001b[39m(\u001b[38;5;28mself\u001b[39m, file\u001b[38;5;241m=\u001b[39m\u001b[38;5;28;01mNone\u001b[39;00m):\n\u001b[0;32m    701\u001b[0m     \u001b[38;5;124;03m\"\"\"Shows the frame content in the gui window, or save the content to an\u001b[39;00m\n\u001b[0;32m    702\u001b[0m \u001b[38;5;124;03m    image file.\u001b[39;00m\n\u001b[0;32m    703\u001b[0m \n\u001b[1;32m   (...)\u001b[0m\n\u001b[0;32m    707\u001b[0m \u001b[38;5;124;03m            image filename the frame will be saved as the specified image.\u001b[39;00m\n\u001b[0;32m    708\u001b[0m \u001b[38;5;124;03m    \"\"\"\u001b[39;00m\n\u001b[1;32m--> 709\u001b[0m     \u001b[38;5;28;43mself\u001b[39;49m\u001b[38;5;241;43m.\u001b[39;49m\u001b[43mcore\u001b[49m\u001b[38;5;241;43m.\u001b[39;49m\u001b[43mupdate\u001b[49m\u001b[43m(\u001b[49m\u001b[43m)\u001b[49m\n\u001b[0;32m    710\u001b[0m     \u001b[38;5;28;01mif\u001b[39;00m file:\n\u001b[0;32m    711\u001b[0m         \u001b[38;5;28mself\u001b[39m\u001b[38;5;241m.\u001b[39mcore\u001b[38;5;241m.\u001b[39mscreenshot(file)\n",
      "\u001b[1;31mRuntimeError\u001b[0m: Window close button clicked, exiting... (use `while gui.running` to exit gracefully)"
     ]
    }
   ],
   "source": [
    "# python/taichi/examples/simulation/fractal.py\n",
    "\n",
    "import taichi as ti\n",
    "\n",
    "ti.init(arch=ti.gpu)\n",
    "\n",
    "n = 320\n",
    "pixels = ti.field(dtype=float, shape=(n * 2, n))\n",
    "\n",
    "\n",
    "@ti.func\n",
    "def complex_sqr(z):\n",
    "    return ti.Vector([z[0]**2 - z[1]**2, z[1] * z[0] * 2])\n",
    "\n",
    "\n",
    "@ti.kernel\n",
    "def paint(t: float):\n",
    "    for i, j in pixels:  # Parallelized over all pixels\n",
    "        c = ti.Vector([-0.8, ti.cos(t) * 0.2])\n",
    "        z = ti.Vector([i / n - 1, j / n - 0.5]) * 2\n",
    "        iterations = 0\n",
    "        while z.norm() < 20 and iterations < 50:\n",
    "            z = complex_sqr(z) + c\n",
    "            iterations += 1\n",
    "        pixels[i, j] = 1 - iterations * 0.02\n",
    "\n",
    "\n",
    "gui = ti.GUI(\"Julia Set\", res=(n * 2, n))\n",
    "\n",
    "for i in range(1000000):\n",
    "    paint(i * 0.03)\n",
    "    gui.set_image(pixels)\n",
    "    gui.show()"
   ]
  },
  {
   "cell_type": "code",
   "execution_count": null,
   "id": "165b23ac",
   "metadata": {},
   "outputs": [],
   "source": []
  }
 ],
 "metadata": {
  "kernelspec": {
   "display_name": "Python 3 (ipykernel)",
   "language": "python",
   "name": "python3"
  },
  "language_info": {
   "codemirror_mode": {
    "name": "ipython",
    "version": 3
   },
   "file_extension": ".py",
   "mimetype": "text/x-python",
   "name": "python",
   "nbconvert_exporter": "python",
   "pygments_lexer": "ipython3",
   "version": "3.9.12"
  }
 },
 "nbformat": 4,
 "nbformat_minor": 5
}
