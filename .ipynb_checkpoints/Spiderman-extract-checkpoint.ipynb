{
 "cells": [
  {
   "cell_type": "code",
   "execution_count": 2,
   "metadata": {
    "id": "lDwKVd96BjQQ"
   },
   "outputs": [],
   "source": [
    "# %rm -rf frames"
   ]
  },
  {
   "cell_type": "code",
   "execution_count": null,
   "metadata": {},
   "outputs": [],
   "source": [
    "pip install opencv-python"
   ]
  },
  {
   "cell_type": "code",
   "execution_count": 3,
   "metadata": {
    "id": "X9-ELv22UKUr"
   },
   "outputs": [
    {
     "ename": "ModuleNotFoundError",
     "evalue": "No module named 'cv2'",
     "output_type": "error",
     "traceback": [
      "\u001b[1;31m---------------------------------------------------------------------------\u001b[0m",
      "\u001b[1;31mModuleNotFoundError\u001b[0m                       Traceback (most recent call last)",
      "Input \u001b[1;32mIn [3]\u001b[0m, in \u001b[0;36m<cell line: 1>\u001b[1;34m()\u001b[0m\n\u001b[1;32m----> 1\u001b[0m \u001b[38;5;28;01mimport\u001b[39;00m \u001b[38;5;21;01mcv2\u001b[39;00m\n",
      "\u001b[1;31mModuleNotFoundError\u001b[0m: No module named 'cv2'"
     ]
    }
   ],
   "source": [
    "import cv2\n",
    "# vidcap = cv2.VideoCapture('video.mp4')\n",
    "# success,image = vidcap.read()\n",
    "# count = 0\n",
    "# while success:\n",
    "\n",
    "#   cropped_image = image[0:360, 72:568]\n",
    "#   lowres_image = cv2.resize(cropped_image, (110, 80))\n",
    "  \n",
    "#   final_image=lowres_image\n",
    "#   cv2.imwrite(\"frames/frame%d.png\" % count, final_image)     \n",
    "#   success,image = vidcap.read()\n",
    "#   print('frame: ', count)\n",
    "#   count += 1"
   ]
  },
  {
   "cell_type": "code",
   "execution_count": null,
   "metadata": {
    "id": "kfliguPy-1Rk"
   },
   "outputs": [],
   "source": [
    "import numpy as np\n",
    "import matplotlib.pyplot as plt\n",
    "from sklearn.decomposition import PCA\n",
    "import pandas as pd\n",
    "\n",
    "\n",
    "\n",
    "# plt.show(img)\n",
    "# from glob import iglob\n",
    "# frame = pd.DataFrame([])\n",
    "# counter=0\n",
    "# for path in iglob(\"frames/*.png\"):\n",
    "#   counter+=1\n",
    "#   print(counter)\n",
    "#   img= cv2.imread(path)\n",
    "#   gray_image = cv2.cvtColor(img, cv2.COLOR_BGR2GRAY)\n",
    "#   face = pd.Series(gray_image.flatten())\n",
    "#   frame = frame.append(face)\n"
   ]
  },
  {
   "cell_type": "code",
   "execution_count": null,
   "metadata": {
    "id": "5PG8VHkn15Qq"
   },
   "outputs": [],
   "source": [
    "# frame.to_csv(\"mega_data.csv\", encoding='utf-8', index=False)"
   ]
  },
  {
   "cell_type": "code",
   "execution_count": null,
   "metadata": {
    "id": "NL7pYn1V-GI2"
   },
   "outputs": [],
   "source": [
    "import pandas as pd\n",
    "\n",
    "frame = pd.read_csv('mega_data.csv')"
   ]
  },
  {
   "cell_type": "code",
   "execution_count": null,
   "metadata": {},
   "outputs": [],
   "source": [
    "from sklearn.decomposition import PCA\n",
    "#n_components=0.80 means it will return the Eigenvectors that have the 80% of the variation in the dataset\n",
    "frame_pca = PCA(n_components=65)\n",
    "frame_pca.fit(frame.values)"
   ]
  },
  {
   "cell_type": "code",
   "execution_count": null,
   "metadata": {
    "id": "imitoUv_CEf5"
   },
   "outputs": [],
   "source": [
    "\n",
    "\n",
    "\n",
    "\n",
    "\n",
    "\n",
    "import pickle as pk\n",
    "# pk.dump(frame_pca, open(\"pca.pkl\",\"wb\"))\n",
    "frame_pca = pk.load(open(\"pca.pkl\",'rb'))\n",
    "\n",
    "fig, axes = plt.subplots(2,10,figsize=(9,3),\n",
    " subplot_kw={\"xticks\":[], \"yticks\":[]},\n",
    " gridspec_kw=dict(hspace=0.01, wspace=0.01))\n",
    "\n",
    "for i, ax in enumerate(axes.flat):\n",
    "  ax.imshow(frame_pca.components_[i].reshape(80,110),cmap=\"gray\")\n"
   ]
  },
  {
   "cell_type": "code",
   "execution_count": null,
   "metadata": {
    "colab": {
     "base_uri": "https://localhost:8080/"
    },
    "executionInfo": {
     "elapsed": 10,
     "status": "ok",
     "timestamp": 1656673068518,
     "user": {
      "displayName": "Rory Coughlan",
      "userId": "10911797824088036468"
     },
     "user_tz": -600
    },
    "id": "xW5aaJ00Fo1U",
    "outputId": "0eeaec0d-bc6a-404d-eec3-fd1394fd22ff"
   },
   "outputs": [],
   "source": [
    "\n",
    "print(frame_pca.explained_variance_ratio_)\n",
    "print(np.sum(frame_pca.explained_variance_ratio_))\n",
    "print(len(frame_pca.explained_variance_ratio_))"
   ]
  },
  {
   "cell_type": "code",
   "execution_count": null,
   "metadata": {
    "id": "-nLWy__aQsT-"
   },
   "outputs": [],
   "source": []
  },
  {
   "cell_type": "code",
   "execution_count": null,
   "metadata": {
    "id": "R7sP0w1sap_3"
   },
   "outputs": [],
   "source": [
    "components = frame_pca.transform(frame)\n",
    "projected = frame_pca.inverse_transform(components)"
   ]
  },
  {
   "cell_type": "code",
   "execution_count": null,
   "metadata": {
    "colab": {
     "base_uri": "https://localhost:8080/",
     "height": 632
    },
    "executionInfo": {
     "elapsed": 3631,
     "status": "ok",
     "timestamp": 1656673636856,
     "user": {
      "displayName": "Rory Coughlan",
      "userId": "10911797824088036468"
     },
     "user_tz": -600
    },
    "id": "-hbVqNZOYEMn",
    "outputId": "4294fcce-1c49-48ef-a144-12f104aa41f3"
   },
   "outputs": [],
   "source": [
    "\n",
    "fig, axes = plt.subplots(10,5,figsize=(11,11), subplot_kw={'xticks':[], 'yticks':[]})\n",
    "for i, ax in enumerate(axes.flat[:50]):\n",
    "    ax.imshow(projected[i].reshape(80,110),cmap=\"gray\")"
   ]
  }
 ],
 "metadata": {
  "colab": {
   "authorship_tag": "ABX9TyOO+rwItJ5XmMwIo0zXkYEz",
   "collapsed_sections": [],
   "name": "Spiderman-extract.ipynb",
   "provenance": []
  },
  "kernelspec": {
   "display_name": "Python 3 (ipykernel)",
   "language": "python",
   "name": "python3"
  },
  "language_info": {
   "codemirror_mode": {
    "name": "ipython",
    "version": 3
   },
   "file_extension": ".py",
   "mimetype": "text/x-python",
   "name": "python",
   "nbconvert_exporter": "python",
   "pygments_lexer": "ipython3",
   "version": "3.9.12"
  }
 },
 "nbformat": 4,
 "nbformat_minor": 1
}
